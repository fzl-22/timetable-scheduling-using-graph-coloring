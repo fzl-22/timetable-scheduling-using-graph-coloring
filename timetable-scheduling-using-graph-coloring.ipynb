{
 "cells": [
  {
   "cell_type": "code",
   "execution_count": null,
   "id": "9eae87a1",
   "metadata": {},
   "outputs": [],
   "source": [
    "import pandas as pd\n",
    "import numpy as np\n",
    "import networkx as nx\n",
    "import matplotlib.pyplot as plt"
   ]
  },
  {
   "cell_type": "markdown",
   "id": "3a4696bd-307b-4e41-8d45-fae69a837e9a",
   "metadata": {},
   "source": [
    "# PREPARATION PROCESS"
   ]
  },
  {
   "cell_type": "markdown",
   "id": "7a979455",
   "metadata": {},
   "source": [
    "Constraint:"
   ]
  },
  {
   "cell_type": "markdown",
   "id": "8c6c3ab8",
   "metadata": {},
   "source": [
    "1. Two or more activities can't share the same teacher or the same students sets in a single schedule\n",
    "2. Maximum number of classroom and laboratorium used in a single schedule is 28 and 10, respectively"
   ]
  },
  {
   "cell_type": "code",
   "execution_count": null,
   "id": "77293f42-071b-413f-bd1c-38faaf33d595",
   "metadata": {},
   "outputs": [],
   "source": [
    "# Input data from csv (comma-separated value) file, and maximum number of classroom and laboratorium available\n",
    "df = pd.read_csv(\"Data/FET ALL_LAB_KELAS.csv\")\n",
    "max_class = int(input(\"Enter the maximum number of classroom: \"))\n",
    "max_lab = int(input(\"Enter the maximum number of laboratorium: \"))\n",
    "df"
   ]
  },
  {
   "cell_type": "code",
   "execution_count": null,
   "id": "3ecf2420-6743-4fc4-95e7-ae2fe4912ecb",
   "metadata": {},
   "outputs": [],
   "source": [
    "# Initialize the graph with zeros\n",
    "Graph = np.zeros((len(df), len(df)), dtype=int)\n",
    "network = nx.Graph()\n",
    "network.add_nodes_from(df.index) # Initiatiate nodes for the visualisation\n",
    "print(f\"This network has {network.number_of_nodes()} nodes\")\n",
    "Graph"
   ]
  },
  {
   "cell_type": "code",
   "execution_count": null,
   "id": "ca3c5958-8efa-4005-a025-fa56fa1c7e66",
   "metadata": {},
   "outputs": [],
   "source": [
    "# Assign value to the adjacency matrix by the connectivity of the nodes\n",
    "for i in range(len(df)):\n",
    "    for j in range(i+1, len(df)):\n",
    "        if df.loc[i, \"Students Sets\"] == df.loc[j, \"Students Sets\"] or df.loc[i, \"Teachers\"] == df.loc[j, \"Teachers\"]:\n",
    "            Graph[i][j] = 1\n",
    "            Graph[j][i] = 1\n",
    "            network.add_edge(i, j) # Add edges for the visualisation based on the rule\n",
    "Graph"
   ]
  },
  {
   "cell_type": "code",
   "execution_count": null,
   "metadata": {},
   "outputs": [],
   "source": [
    "# Graph visualisation before colorized\n",
    "color_map = [\"purple\"]*(network.number_of_nodes())\n",
    "pos = nx.spring_layout(network, seed = 1)\n",
    "fig, ax = plt.subplots(figsize=(50,50))\n",
    "ax = nx.draw_networkx(network, pos = pos, with_labels=True, node_size=1000, width=1, node_color=color_map, font_size=12, font_color=\"white\", ax=ax)\n",
    "fig.savefig(\"Result/graph-before-colorized.png\", bbox_inches='tight')"
   ]
  },
  {
   "cell_type": "code",
   "execution_count": null,
   "id": "b5664c80-1b09-436d-b368-5c1a96e4ffba",
   "metadata": {},
   "outputs": [],
   "source": [
    "# Calculate the degree of each node, here's node as the key and its degree as the value of dictionary\n",
    "nodeDegree = {}\n",
    "for i in range(len(Graph)):\n",
    "    nodeDegree[i] = sum(Graph[i])\n",
    "nodeDegree"
   ]
  },
  {
   "cell_type": "code",
   "execution_count": null,
   "id": "5f63fa8c-e70b-4126-83a1-5340045bce3f",
   "metadata": {},
   "outputs": [],
   "source": [
    "# Sort the nodes by its degree in descending order\n",
    "pairedSortedNode = sorted(nodeDegree.items(), key=lambda x: x[1], reverse=True) # Sort by dictionary value (node's degree)\n",
    "sortedNode = np.zeros((len(df)), dtype=int) # Initiate numpy array by zero before assigning sorted node\n",
    "for i in range(len(df)): \n",
    "    sortedNode[i] = pairedSortedNode[i][0] # Assign dictionary key (node) to sorted node list\n",
    "sortedNode"
   ]
  },
  {
   "cell_type": "code",
   "execution_count": null,
   "id": "11e32a0a-1a9f-41cc-81b6-edfd43d6d062",
   "metadata": {},
   "outputs": [],
   "source": [
    "colorClass = 1 # color for class\n",
    "colorLab = 1 # color for laboratorium\n",
    "color_list = [\"lightcoral\", \"gray\", \"lightgray\", \"firebrick\", \"red\", \"chocolate\", \"darkorange\", \"moccasin\", \"gold\", \"yellow\", \"darkolivegreen\", \"chartreuse\", \"forestgreen\", \"lime\", \"mediumaquamarine\", \"turquoise\", \"teal\", \"cadetblue\", \"dogerblue\", \"blue\", \"slateblue\", \"blueviolet\", \"magenta\", \"lightsteelblue\"] # List of possible color (it has to be equal to the number of nodes (for the worst case), but it's okay because we only need this for the visualisation)"
   ]
  },
  {
   "cell_type": "markdown",
   "id": "58b06de7",
   "metadata": {},
   "source": [
    "# Main Process"
   ]
  },
  {
   "cell_type": "code",
   "execution_count": null,
   "id": "7b3d938e-a5e1-41e3-841a-1d03c7da7741",
   "metadata": {},
   "outputs": [],
   "source": [
    "# Function to check whether a new node is not adjacent to every single element of a given list\n",
    "def isNotAdjacent(x, _list, _graph):\n",
    "    for i in _list:\n",
    "        if _graph[x][i] == 1:\n",
    "            return False\n",
    "    return True"
   ]
  },
  {
   "cell_type": "code",
   "execution_count": null,
   "id": "54ce754c-8e07-4157-9d3e-6a098c672090",
   "metadata": {},
   "outputs": [],
   "source": [
    "# Welch-Powell Algorithm, this algorithm runs in O(N*N) time complexity\n",
    "colorizedNode = {}\n",
    "listOfColorizedNode = []\n",
    "for i in sortedNode:\n",
    "    if i not in listOfColorizedNode:\n",
    "        listOfColorizedNode.append(i)\n",
    "        listOfAdjacentNode = []\n",
    "        if df.loc[i, \"Room\"] == \"KELAS\":\n",
    "            counterClass, counterLab = 1, 0\n",
    "            colorizedNode[i] = colorClass\n",
    "            color_map[i] = color_list[colorClass]\n",
    "        elif df.loc[i, \"Room\"] == \"LAB\":\n",
    "            counterClass, counterLab = 0, 1\n",
    "            colorizedNode[i] = colorLab\n",
    "            color_map[i] = color_list[colorLab]\n",
    "        for j in sortedNode:\n",
    "            if Graph[i][j] == 0 and i != j and isNotAdjacent(j, listOfAdjacentNode, Graph) == True and j not in listOfColorizedNode and df.loc[j, \"Room\"] == \"KELAS\" and counterClass < max_class:\n",
    "                colorizedNode[j] = colorClass\n",
    "                color_map[j] = color_list[colorClass]\n",
    "                listOfColorizedNode.append(j)\n",
    "                listOfAdjacentNode.append(j)\n",
    "                counterClass = counterClass + 1\n",
    "            elif Graph[i][j] == 0 and i != j and isNotAdjacent(j, listOfAdjacentNode, Graph) == True and j not in listOfColorizedNode and df.loc[j, \"Room\"] == \"LAB\" and counterLab < max_lab:\n",
    "                colorizedNode[j] = colorLab\n",
    "                color_map[j] = color_list[colorLab]\n",
    "                listOfColorizedNode.append(j)\n",
    "                listOfAdjacentNode.append(j)\n",
    "                counterLab = counterLab + 1\n",
    "            elif counterClass == max_class and counterLab == max_lab:\n",
    "                break\n",
    "        listOfAdjacentNode *= 0\n",
    "        colorLab = colorLab + 1\n",
    "        colorClass = colorClass + 1\n",
    "colorizedNode"
   ]
  },
  {
   "cell_type": "code",
   "execution_count": null,
   "id": "19280fcc-aff0-4bc6-8055-9e59caddd798",
   "metadata": {},
   "outputs": [],
   "source": [
    "for t,w in sorted(colorizedNode.items()):\n",
    "  print(\"Node\",t,\"  \\t=\",\"Color\", w)"
   ]
  },
  {
   "cell_type": "code",
   "execution_count": null,
   "id": "2659a485-4c36-45ed-ac21-32069c868633",
   "metadata": {},
   "outputs": [],
   "source": [
    "# Activity is the colorized node, schedule is the color of a node\n",
    "schedule_list = []\n",
    "for activity, schedule in sorted(colorizedNode.items()): # Assign the sorted colorized node by node's name (Activity ID) to a new list\n",
    "    schedule_list.append(schedule)\n",
    "df[\"Schedules\"] = schedule_list # Add new column of schedule of an activity\n",
    "df.head(50)"
   ]
  },
  {
   "cell_type": "code",
   "execution_count": null,
   "id": "866a632d",
   "metadata": {},
   "outputs": [],
   "source": [
    "df = df.sort_values(\"Schedules\") # Sort the data frame by the value of schedules (node's color)\n",
    "df[\"Schedules\"] = df[\"Schedules\"].astype(str) # Type conversion of the schedules column from integer to string\n",
    "df"
   ]
  },
  {
   "cell_type": "code",
   "execution_count": null,
   "id": "4d2efa81",
   "metadata": {},
   "outputs": [],
   "source": [
    "# Dummy column (\"String\" column), so that another column can be concatenated with \"Schedule\" string\n",
    "schedule_string = [\"Schedule\"]*len(df)\n",
    "df[\"String\"] = schedule_string\n",
    "df"
   ]
  },
  {
   "cell_type": "code",
   "execution_count": null,
   "id": "6f9f6642",
   "metadata": {},
   "outputs": [],
   "source": [
    "# Concatenate \"String\" column with \"Schedules\" column so that it can be more descriptic, and then drop the \"String\" column\n",
    "df[\"Schedules\"] = df[\"String\"] + \" \" + df[\"Schedules\"]\n",
    "df.drop(\"String\", axis=\"columns\", inplace=True)\n",
    "df"
   ]
  },
  {
   "cell_type": "code",
   "execution_count": null,
   "id": "e9e3f887",
   "metadata": {},
   "outputs": [],
   "source": [
    "# Export dataframe to csv (comma-separated value) file\n",
    "df.to_csv(\"Result/schedule-result.csv\")"
   ]
  },
  {
   "cell_type": "code",
   "execution_count": null,
   "id": "c03b1e8c",
   "metadata": {},
   "outputs": [],
   "source": [
    "fig, ax = plt.subplots(figsize=(50,50))\n",
    "nx.draw_networkx(network, pos = pos, with_labels=True, node_size=1000, width=1, node_color=color_map, font_size=12, font_color=\"white\", ax=ax)\n",
    "fig.savefig(\"Result/graph-after-colorized.png\", bbox_inches='tight')"
   ]
  }
 ],
 "metadata": {
  "kernelspec": {
   "display_name": "Python 3 (ipykernel)",
   "language": "python",
   "name": "python3"
  },
  "language_info": {
   "codemirror_mode": {
    "name": "ipython",
    "version": 3
   },
   "file_extension": ".py",
   "mimetype": "text/x-python",
   "name": "python",
   "nbconvert_exporter": "python",
   "pygments_lexer": "ipython3",
   "version": "3.9.12"
  },
  "vscode": {
   "interpreter": {
    "hash": "0836518042841d1b1b621ec3f7eca24619df45e0343c19d1565e3564cd1ef8eb"
   }
  }
 },
 "nbformat": 4,
 "nbformat_minor": 5
}
